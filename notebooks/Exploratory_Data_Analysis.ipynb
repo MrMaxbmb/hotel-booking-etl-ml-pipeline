{
 "cells": [
  {
   "cell_type": "markdown",
   "id": "7d7bd2e8",
   "metadata": {},
   "source": [
    "# Exploratory Data Analysis\n",
    "\n",
    "Исследовательский анализ данных для проекта предсказания отмены бронирований отелей"
   ]
  },
  {
   "cell_type": "markdown",
   "id": "b53227d9",
   "metadata": {},
   "source": [
    "## Импорт библиотек"
   ]
  },
  {
   "cell_type": "code",
   "execution_count": null,
   "id": "2da0995d",
   "metadata": {},
   "outputs": [],
   "source": [
    "import pandas as pd\n",
    "import numpy as np\n",
    "import matplotlib.pyplot as plt\n",
    "import seaborn as sns\n",
    "\n",
    "# Настройка отображения\n",
    "plt.style.use('default')\n",
    "sns.set_palette('husl')\n",
    "%matplotlib inline"
   ]
  },
  {
   "cell_type": "markdown",
   "id": "07339b8e",
   "metadata": {},
   "source": [
    "## Загрузка данных\n",
    "\n",
    "Загружаем данные о бронированиях отелей"
   ]
  },
  {
   "cell_type": "code",
   "execution_count": null,
   "id": "1eee7991",
   "metadata": {},
   "outputs": [],
   "source": [
    "# Загрузка данных (будет добавлено позже)\n",
    "# df = pd.read_parquet('../data/hotel_bookings.parquet')\n",
    "# print(f\"Размер датасета: {df.shape}\")\n",
    "# df.head()"
   ]
  },
  {
   "cell_type": "markdown",
   "id": "98401070",
   "metadata": {},
   "source": [
    "## Общая информация о данных"
   ]
  },
  {
   "cell_type": "code",
   "execution_count": null,
   "id": "3df95b1d",
   "metadata": {},
   "outputs": [],
   "source": [
    "# Основная информация о датасете\n",
    "# df.info()\n",
    "# print(\"\\nПропущенные значения:\")\n",
    "# print(df.isnull().sum())"
   ]
  },
  {
   "cell_type": "markdown",
   "id": "d6c7649d",
   "metadata": {},
   "source": [
    "## Анализ целевой переменной"
   ]
  },
  {
   "cell_type": "code",
   "execution_count": null,
   "id": "eae5e87f",
   "metadata": {},
   "outputs": [],
   "source": [
    "# Распределение целевой переменной (отмены бронирований)\n",
    "# plt.figure(figsize=(8, 6))\n",
    "# df['is_canceled'].value_counts().plot(kind='bar')\n",
    "# plt.title('Распределение отмен бронирований')\n",
    "# plt.xlabel('Отменено (1) / Не отменено (0)')\n",
    "# plt.ylabel('Количество')\n",
    "# plt.show()"
   ]
  }
 ],
 "metadata": {
  "language_info": {
   "name": "python"
  }
 },
 "nbformat": 4,
 "nbformat_minor": 5
}
